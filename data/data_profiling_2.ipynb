{
 "cells": [
  {
   "cell_type": "code",
   "execution_count": 1,
   "id": "signal-indication",
   "metadata": {},
   "outputs": [],
   "source": [
    "import pandas as pd\n",
    "import seaborn as sns\n",
    "import matplotlib.pyplot as plt"
   ]
  },
  {
   "cell_type": "code",
   "execution_count": 2,
   "id": "wooden-maine",
   "metadata": {},
   "outputs": [],
   "source": [
    "df = pd.read_csv('bank_processed_data.csv')"
   ]
  },
  {
   "cell_type": "code",
   "execution_count": 5,
   "id": "handled-worst",
   "metadata": {},
   "outputs": [],
   "source": [
    "df.drop(columns=['Unnamed: 0'], inplace=True)"
   ]
  },
  {
   "cell_type": "code",
   "execution_count": 29,
   "id": "eligible-tobacco",
   "metadata": {},
   "outputs": [
    {
     "data": {
      "text/plain": [
       "Index(['age', 'default', 'balance', 'housing', 'loan', 'campaign', 'pdays',\n",
       "       'previous', 'deposit', 'job_admin.', 'job_blue-collar',\n",
       "       'job_entrepreneur', 'job_housemaid', 'job_management', 'job_retired',\n",
       "       'job_self-employed', 'job_services', 'job_student', 'job_technician',\n",
       "       'job_unemployed', 'job_unknown', 'marital_divorced', 'marital_married',\n",
       "       'marital_single', 'education_primary', 'education_secondary',\n",
       "       'education_tertiary', 'education_unknown', 'contact_cellular',\n",
       "       'contact_telephone', 'contact_unknown', 'day_end', 'day_middle',\n",
       "       'day_start', 'month_apr', 'month_aug', 'month_dec', 'month_feb',\n",
       "       'month_jan', 'month_jul', 'month_jun', 'month_mar', 'month_may',\n",
       "       'month_nov', 'month_oct', 'month_sep', 'poutcome_failure',\n",
       "       'poutcome_other', 'poutcome_success', 'poutcome_unknown'],\n",
       "      dtype='object')"
      ]
     },
     "execution_count": 29,
     "metadata": {},
     "output_type": "execute_result"
    }
   ],
   "source": [
    "df.columns"
   ]
  },
  {
   "cell_type": "code",
   "execution_count": 10,
   "id": "terminal-silver",
   "metadata": {},
   "outputs": [
    {
     "data": {
      "text/html": [
       "<div>\n",
       "<style scoped>\n",
       "    .dataframe tbody tr th:only-of-type {\n",
       "        vertical-align: middle;\n",
       "    }\n",
       "\n",
       "    .dataframe tbody tr th {\n",
       "        vertical-align: top;\n",
       "    }\n",
       "\n",
       "    .dataframe thead th {\n",
       "        text-align: right;\n",
       "    }\n",
       "</style>\n",
       "<table border=\"1\" class=\"dataframe\">\n",
       "  <thead>\n",
       "    <tr style=\"text-align: right;\">\n",
       "      <th></th>\n",
       "      <th>age</th>\n",
       "      <th>default</th>\n",
       "      <th>balance</th>\n",
       "      <th>housing</th>\n",
       "      <th>loan</th>\n",
       "      <th>campaign</th>\n",
       "      <th>pdays</th>\n",
       "      <th>previous</th>\n",
       "      <th>deposit</th>\n",
       "      <th>job_admin.</th>\n",
       "      <th>...</th>\n",
       "      <th>month_jun</th>\n",
       "      <th>month_mar</th>\n",
       "      <th>month_may</th>\n",
       "      <th>month_nov</th>\n",
       "      <th>month_oct</th>\n",
       "      <th>month_sep</th>\n",
       "      <th>poutcome_failure</th>\n",
       "      <th>poutcome_other</th>\n",
       "      <th>poutcome_success</th>\n",
       "      <th>poutcome_unknown</th>\n",
       "    </tr>\n",
       "  </thead>\n",
       "  <tbody>\n",
       "    <tr>\n",
       "      <th>0</th>\n",
       "      <td>59</td>\n",
       "      <td>0</td>\n",
       "      <td>2343</td>\n",
       "      <td>1</td>\n",
       "      <td>0</td>\n",
       "      <td>1</td>\n",
       "      <td>-1</td>\n",
       "      <td>0</td>\n",
       "      <td>1</td>\n",
       "      <td>1</td>\n",
       "      <td>...</td>\n",
       "      <td>0</td>\n",
       "      <td>0</td>\n",
       "      <td>1</td>\n",
       "      <td>0</td>\n",
       "      <td>0</td>\n",
       "      <td>0</td>\n",
       "      <td>0</td>\n",
       "      <td>0</td>\n",
       "      <td>0</td>\n",
       "      <td>1</td>\n",
       "    </tr>\n",
       "    <tr>\n",
       "      <th>1</th>\n",
       "      <td>56</td>\n",
       "      <td>0</td>\n",
       "      <td>45</td>\n",
       "      <td>0</td>\n",
       "      <td>0</td>\n",
       "      <td>1</td>\n",
       "      <td>-1</td>\n",
       "      <td>0</td>\n",
       "      <td>1</td>\n",
       "      <td>1</td>\n",
       "      <td>...</td>\n",
       "      <td>0</td>\n",
       "      <td>0</td>\n",
       "      <td>1</td>\n",
       "      <td>0</td>\n",
       "      <td>0</td>\n",
       "      <td>0</td>\n",
       "      <td>0</td>\n",
       "      <td>0</td>\n",
       "      <td>0</td>\n",
       "      <td>1</td>\n",
       "    </tr>\n",
       "    <tr>\n",
       "      <th>2</th>\n",
       "      <td>41</td>\n",
       "      <td>0</td>\n",
       "      <td>1270</td>\n",
       "      <td>1</td>\n",
       "      <td>0</td>\n",
       "      <td>1</td>\n",
       "      <td>-1</td>\n",
       "      <td>0</td>\n",
       "      <td>1</td>\n",
       "      <td>0</td>\n",
       "      <td>...</td>\n",
       "      <td>0</td>\n",
       "      <td>0</td>\n",
       "      <td>1</td>\n",
       "      <td>0</td>\n",
       "      <td>0</td>\n",
       "      <td>0</td>\n",
       "      <td>0</td>\n",
       "      <td>0</td>\n",
       "      <td>0</td>\n",
       "      <td>1</td>\n",
       "    </tr>\n",
       "    <tr>\n",
       "      <th>3</th>\n",
       "      <td>55</td>\n",
       "      <td>0</td>\n",
       "      <td>2476</td>\n",
       "      <td>1</td>\n",
       "      <td>0</td>\n",
       "      <td>1</td>\n",
       "      <td>-1</td>\n",
       "      <td>0</td>\n",
       "      <td>1</td>\n",
       "      <td>0</td>\n",
       "      <td>...</td>\n",
       "      <td>0</td>\n",
       "      <td>0</td>\n",
       "      <td>1</td>\n",
       "      <td>0</td>\n",
       "      <td>0</td>\n",
       "      <td>0</td>\n",
       "      <td>0</td>\n",
       "      <td>0</td>\n",
       "      <td>0</td>\n",
       "      <td>1</td>\n",
       "    </tr>\n",
       "    <tr>\n",
       "      <th>4</th>\n",
       "      <td>54</td>\n",
       "      <td>0</td>\n",
       "      <td>184</td>\n",
       "      <td>0</td>\n",
       "      <td>0</td>\n",
       "      <td>2</td>\n",
       "      <td>-1</td>\n",
       "      <td>0</td>\n",
       "      <td>1</td>\n",
       "      <td>1</td>\n",
       "      <td>...</td>\n",
       "      <td>0</td>\n",
       "      <td>0</td>\n",
       "      <td>1</td>\n",
       "      <td>0</td>\n",
       "      <td>0</td>\n",
       "      <td>0</td>\n",
       "      <td>0</td>\n",
       "      <td>0</td>\n",
       "      <td>0</td>\n",
       "      <td>1</td>\n",
       "    </tr>\n",
       "  </tbody>\n",
       "</table>\n",
       "<p>5 rows × 50 columns</p>\n",
       "</div>"
      ],
      "text/plain": [
       "   age  default  balance  housing  loan  campaign  pdays  previous  deposit  \\\n",
       "0   59        0     2343        1     0         1     -1         0        1   \n",
       "1   56        0       45        0     0         1     -1         0        1   \n",
       "2   41        0     1270        1     0         1     -1         0        1   \n",
       "3   55        0     2476        1     0         1     -1         0        1   \n",
       "4   54        0      184        0     0         2     -1         0        1   \n",
       "\n",
       "   job_admin.  ...  month_jun  month_mar  month_may  month_nov  month_oct  \\\n",
       "0           1  ...          0          0          1          0          0   \n",
       "1           1  ...          0          0          1          0          0   \n",
       "2           0  ...          0          0          1          0          0   \n",
       "3           0  ...          0          0          1          0          0   \n",
       "4           1  ...          0          0          1          0          0   \n",
       "\n",
       "   month_sep  poutcome_failure  poutcome_other  poutcome_success  \\\n",
       "0          0                 0               0                 0   \n",
       "1          0                 0               0                 0   \n",
       "2          0                 0               0                 0   \n",
       "3          0                 0               0                 0   \n",
       "4          0                 0               0                 0   \n",
       "\n",
       "   poutcome_unknown  \n",
       "0                 1  \n",
       "1                 1  \n",
       "2                 1  \n",
       "3                 1  \n",
       "4                 1  \n",
       "\n",
       "[5 rows x 50 columns]"
      ]
     },
     "execution_count": 10,
     "metadata": {},
     "output_type": "execute_result"
    }
   ],
   "source": [
    "df.head()"
   ]
  },
  {
   "cell_type": "code",
   "execution_count": 15,
   "id": "designed-jenny",
   "metadata": {},
   "outputs": [
    {
     "data": {
      "text/plain": [
       "Index(['age', 'default', 'balance', 'housing', 'loan', 'campaign', 'pdays',\n",
       "       'previous', 'deposit', 'job_admin.', 'job_blue-collar',\n",
       "       'job_entrepreneur', 'job_housemaid', 'job_management', 'job_retired',\n",
       "       'job_self-employed', 'job_services', 'job_student', 'job_technician',\n",
       "       'job_unemployed', 'job_unknown', 'marital_divorced', 'marital_married',\n",
       "       'marital_single', 'education_primary', 'education_secondary',\n",
       "       'education_tertiary', 'education_unknown', 'contact_cellular',\n",
       "       'contact_telephone', 'contact_unknown', 'day_end', 'day_middle',\n",
       "       'day_start', 'month_apr', 'month_aug', 'month_dec', 'month_feb',\n",
       "       'month_jan', 'month_jul', 'month_jun', 'month_mar', 'month_may',\n",
       "       'month_nov', 'month_oct', 'month_sep', 'poutcome_failure',\n",
       "       'poutcome_other', 'poutcome_success', 'poutcome_unknown'],\n",
       "      dtype='object')"
      ]
     },
     "execution_count": 15,
     "metadata": {},
     "output_type": "execute_result"
    }
   ],
   "source": [
    "df.columns"
   ]
  },
  {
   "cell_type": "markdown",
   "id": "magnetic-producer",
   "metadata": {},
   "source": [
    "### Does distribution of account balances vary with whether or not somone has home loan?"
   ]
  },
  {
   "cell_type": "code",
   "execution_count": 14,
   "id": "gross-wisconsin",
   "metadata": {},
   "outputs": [
    {
     "data": {
      "image/png": "[encoded data removed]",
      "text/plain": [
       "<Figure size 407.625x360 with 1 Axes>"
      ]
     },
     "metadata": {
      "needs_background": "light"
     },
     "output_type": "display_data"
    }
   ],
   "source": [
    "sns.displot(data=df, x='balance', hue='housing');"
   ]
  },
  {
   "cell_type": "markdown",
   "id": "knowing-interaction",
   "metadata": {},
   "source": [
    "### Does distribution of account balances vary with whether or not someonas has defaulted?"
   ]
  },
  {
   "cell_type": "code",
   "execution_count": 17,
   "id": "diagnostic-confirmation",
   "metadata": {},
   "outputs": [
    {
     "data": {
      "image/png": "[encoded data removed]",
      "text/plain": [
       "<Figure size 403.375x360 with 1 Axes>"
      ]
     },
     "metadata": {
      "needs_background": "light"
     },
     "output_type": "display_data"
    }
   ],
   "source": [
    "sns.displot(data=df, x='balance', hue='default');"
   ]
  },
  {
   "cell_type": "markdown",
   "id": "stunning-messenger",
   "metadata": {},
   "source": [
    "### Looking at distribution of positive outcomes by marital status"
   ]
  },
  {
   "cell_type": "code",
   "execution_count": 20,
   "id": "leading-consciousness",
   "metadata": {},
   "outputs": [
    {
     "data": {
      "text/plain": [
       "marital_single  marital_married  marital_divorced\n",
       "0               0                1                   0.481052\n",
       "                1                0                   0.433790\n",
       "1               0                0                   0.543491\n",
       "Name: deposit, dtype: float64"
      ]
     },
     "execution_count": 20,
     "metadata": {},
     "output_type": "execute_result"
    }
   ],
   "source": [
    "df.groupby(['marital_single', 'marital_married', 'marital_divorced'])['deposit'].mean()"
   ]
  },
  {
   "cell_type": "code",
   "execution_count": 32,
   "id": "finished-console",
   "metadata": {},
   "outputs": [
    {
     "data": {
      "text/plain": [
       "count     3518.000000\n",
       "mean      1457.255259\n",
       "std       2940.061288\n",
       "min      -1139.000000\n",
       "25%        145.000000\n",
       "50%        539.500000\n",
       "75%       1583.750000\n",
       "max      56831.000000\n",
       "Name: balance, dtype: float64"
      ]
     },
     "execution_count": 32,
     "metadata": {},
     "output_type": "execute_result"
    }
   ],
   "source": [
    "df[df['marital_single'] == 1]['balance'].describe()"
   ]
  },
  {
   "cell_type": "code",
   "execution_count": 33,
   "id": "fabulous-norfolk",
   "metadata": {},
   "outputs": [
    {
     "data": {
      "text/plain": [
       "count     6351.000000\n",
       "mean      1599.927570\n",
       "std       3380.652168\n",
       "min      -6847.000000\n",
       "25%        122.000000\n",
       "50%        580.000000\n",
       "75%       1812.500000\n",
       "max      81204.000000\n",
       "Name: balance, dtype: float64"
      ]
     },
     "execution_count": 33,
     "metadata": {},
     "output_type": "execute_result"
    }
   ],
   "source": [
    "df[df['marital_married'] == 1]['balance'].describe()"
   ]
  },
  {
   "cell_type": "code",
   "execution_count": 34,
   "id": "typical-mouse",
   "metadata": {},
   "outputs": [
    {
     "data": {
      "text/plain": [
       "count     1293.000000\n",
       "mean      1371.835267\n",
       "std       3178.803624\n",
       "min      -2282.000000\n",
       "25%         49.000000\n",
       "50%        439.000000\n",
       "75%       1612.000000\n",
       "max      52587.000000\n",
       "Name: balance, dtype: float64"
      ]
     },
     "execution_count": 34,
     "metadata": {},
     "output_type": "execute_result"
    }
   ],
   "source": [
    "df[df['marital_divorced'] == 1]['balance'].describe()"
   ]
  },
  {
   "cell_type": "markdown",
   "id": "naked-blind",
   "metadata": {},
   "source": [
    "### Looking at distribution of positive outcomes by education level"
   ]
  },
  {
   "cell_type": "code",
   "execution_count": 122,
   "id": "physical-groove",
   "metadata": {},
   "outputs": [],
   "source": [
    "ed = df.groupby(['education_primary', 'education_secondary', \n",
    "            'education_tertiary', 'education_unknown'])['deposit'].mean().reset_index()"
   ]
  },
  {
   "cell_type": "code",
   "execution_count": 162,
   "id": "compound-exploration",
   "metadata": {},
   "outputs": [],
   "source": [
    "x = list(ed.columns)[:-1][::-1]\n",
    "x  = [i[i.index('_')+1:] for i in x]\n",
    "y = ed['deposit'].values"
   ]
  },
  {
   "cell_type": "code",
   "execution_count": 163,
   "id": "matched-lucas",
   "metadata": {},
   "outputs": [
    {
     "data": {
      "image/png": "[encoded data removed]",
      "text/plain": [
       "<Figure size 432x288 with 1 Axes>"
      ]
     },
     "metadata": {
      "needs_background": "light"
     },
     "output_type": "display_data"
    }
   ],
   "source": [
    "plt.bar(x,y);\n",
    "plt.xlabel('Education Level');\n",
    "plt.ylabel('Sign-up Rate');\n",
    "plt.title('Sign-up Rate by Education Level');"
   ]
  },
  {
   "cell_type": "markdown",
   "id": "external-wheat",
   "metadata": {},
   "source": [
    "### Examine distribution of positive outcomes by day of month when the customer was contacted"
   ]
  },
  {
   "cell_type": "code",
   "execution_count": 22,
   "id": "formed-poster",
   "metadata": {},
   "outputs": [
    {
     "data": {
      "text/plain": [
       "day_start  day_middle  day_end\n",
       "0          0           1          0.456919\n",
       "           1           0          0.470128\n",
       "1          0           0          0.499190\n",
       "Name: deposit, dtype: float64"
      ]
     },
     "execution_count": 22,
     "metadata": {},
     "output_type": "execute_result"
    }
   ],
   "source": [
    "df.groupby(['day_start', 'day_middle', 'day_end'])['deposit'].mean()"
   ]
  },
  {
   "cell_type": "markdown",
   "id": "regulated-window",
   "metadata": {},
   "source": [
    "### Examine distribution of positive outcomes by job type"
   ]
  },
  {
   "cell_type": "code",
   "execution_count": 151,
   "id": "signed-therapy",
   "metadata": {},
   "outputs": [],
   "source": [
    "job = pd.DataFrame(df.groupby(['job_admin.', 'job_blue-collar',\n",
    "       'job_entrepreneur', 'job_housemaid', 'job_management', 'job_retired',\n",
    "       'job_self-employed', 'job_services', 'job_student', 'job_technician',\n",
    "       'job_unemployed', 'job_unknown'])['deposit'].mean()).reset_index()"
   ]
  },
  {
   "cell_type": "code",
   "execution_count": 153,
   "id": "noble-orbit",
   "metadata": {},
   "outputs": [],
   "source": [
    "x = list(job.columns)[:-1][::-1]\n",
    "x = [i[4:] for i in x]\n",
    "y = job['deposit'].values"
   ]
  },
  {
   "cell_type": "code",
   "execution_count": 160,
   "id": "corporate-single",
   "metadata": {},
   "outputs": [
    {
     "data": {
      "image/png": "[encoded data removed]",
      "text/plain": [
       "<Figure size 432x288 with 1 Axes>"
      ]
     },
     "metadata": {
      "needs_background": "light"
     },
     "output_type": "display_data"
    }
   ],
   "source": [
    "plt.barh(x,y);\n",
    "plt.title('Sign-up Rate by Employment Type');\n",
    "plt.xlabel('Sign-up Rate');"
   ]
  },
  {
   "cell_type": "code",
   "execution_count": 38,
   "id": "equivalent-fiber",
   "metadata": {},
   "outputs": [
    {
     "data": {
      "text/html": [
       "<div>\n",
       "<style scoped>\n",
       "    .dataframe tbody tr th:only-of-type {\n",
       "        vertical-align: middle;\n",
       "    }\n",
       "\n",
       "    .dataframe tbody tr th {\n",
       "        vertical-align: top;\n",
       "    }\n",
       "\n",
       "    .dataframe thead th {\n",
       "        text-align: right;\n",
       "    }\n",
       "</style>\n",
       "<table border=\"1\" class=\"dataframe\">\n",
       "  <thead>\n",
       "    <tr style=\"text-align: right;\">\n",
       "      <th></th>\n",
       "      <th></th>\n",
       "      <th></th>\n",
       "      <th></th>\n",
       "      <th></th>\n",
       "      <th></th>\n",
       "      <th></th>\n",
       "      <th></th>\n",
       "      <th></th>\n",
       "      <th></th>\n",
       "      <th></th>\n",
       "      <th></th>\n",
       "      <th>deposit</th>\n",
       "    </tr>\n",
       "    <tr>\n",
       "      <th>month_apr</th>\n",
       "      <th>month_aug</th>\n",
       "      <th>month_dec</th>\n",
       "      <th>month_feb</th>\n",
       "      <th>month_jan</th>\n",
       "      <th>month_jul</th>\n",
       "      <th>month_jun</th>\n",
       "      <th>month_mar</th>\n",
       "      <th>month_may</th>\n",
       "      <th>month_nov</th>\n",
       "      <th>month_oct</th>\n",
       "      <th>month_sep</th>\n",
       "      <th></th>\n",
       "    </tr>\n",
       "  </thead>\n",
       "  <tbody>\n",
       "    <tr>\n",
       "      <th rowspan=\"11\" valign=\"top\">0</th>\n",
       "      <th rowspan=\"10\" valign=\"top\">0</th>\n",
       "      <th rowspan=\"9\" valign=\"top\">0</th>\n",
       "      <th rowspan=\"8\" valign=\"top\">0</th>\n",
       "      <th rowspan=\"7\" valign=\"top\">0</th>\n",
       "      <th rowspan=\"6\" valign=\"top\">0</th>\n",
       "      <th rowspan=\"5\" valign=\"top\">0</th>\n",
       "      <th rowspan=\"4\" valign=\"top\">0</th>\n",
       "      <th rowspan=\"3\" valign=\"top\">0</th>\n",
       "      <th rowspan=\"2\" valign=\"top\">0</th>\n",
       "      <th>0</th>\n",
       "      <th>1</th>\n",
       "      <td>319</td>\n",
       "    </tr>\n",
       "    <tr>\n",
       "      <th>1</th>\n",
       "      <th>0</th>\n",
       "      <td>392</td>\n",
       "    </tr>\n",
       "    <tr>\n",
       "      <th>1</th>\n",
       "      <th>0</th>\n",
       "      <th>0</th>\n",
       "      <td>943</td>\n",
       "    </tr>\n",
       "    <tr>\n",
       "      <th>1</th>\n",
       "      <th>0</th>\n",
       "      <th>0</th>\n",
       "      <th>0</th>\n",
       "      <td>2824</td>\n",
       "    </tr>\n",
       "    <tr>\n",
       "      <th>1</th>\n",
       "      <th>0</th>\n",
       "      <th>0</th>\n",
       "      <th>0</th>\n",
       "      <th>0</th>\n",
       "      <td>276</td>\n",
       "    </tr>\n",
       "    <tr>\n",
       "      <th>1</th>\n",
       "      <th>0</th>\n",
       "      <th>0</th>\n",
       "      <th>0</th>\n",
       "      <th>0</th>\n",
       "      <th>0</th>\n",
       "      <td>1222</td>\n",
       "    </tr>\n",
       "    <tr>\n",
       "      <th>1</th>\n",
       "      <th>0</th>\n",
       "      <th>0</th>\n",
       "      <th>0</th>\n",
       "      <th>0</th>\n",
       "      <th>0</th>\n",
       "      <th>0</th>\n",
       "      <td>1514</td>\n",
       "    </tr>\n",
       "    <tr>\n",
       "      <th>1</th>\n",
       "      <th>0</th>\n",
       "      <th>0</th>\n",
       "      <th>0</th>\n",
       "      <th>0</th>\n",
       "      <th>0</th>\n",
       "      <th>0</th>\n",
       "      <th>0</th>\n",
       "      <td>344</td>\n",
       "    </tr>\n",
       "    <tr>\n",
       "      <th>1</th>\n",
       "      <th>0</th>\n",
       "      <th>0</th>\n",
       "      <th>0</th>\n",
       "      <th>0</th>\n",
       "      <th>0</th>\n",
       "      <th>0</th>\n",
       "      <th>0</th>\n",
       "      <th>0</th>\n",
       "      <td>776</td>\n",
       "    </tr>\n",
       "    <tr>\n",
       "      <th>1</th>\n",
       "      <th>0</th>\n",
       "      <th>0</th>\n",
       "      <th>0</th>\n",
       "      <th>0</th>\n",
       "      <th>0</th>\n",
       "      <th>0</th>\n",
       "      <th>0</th>\n",
       "      <th>0</th>\n",
       "      <th>0</th>\n",
       "      <td>110</td>\n",
       "    </tr>\n",
       "    <tr>\n",
       "      <th>1</th>\n",
       "      <th>0</th>\n",
       "      <th>0</th>\n",
       "      <th>0</th>\n",
       "      <th>0</th>\n",
       "      <th>0</th>\n",
       "      <th>0</th>\n",
       "      <th>0</th>\n",
       "      <th>0</th>\n",
       "      <th>0</th>\n",
       "      <th>0</th>\n",
       "      <td>1519</td>\n",
       "    </tr>\n",
       "    <tr>\n",
       "      <th>1</th>\n",
       "      <th>0</th>\n",
       "      <th>0</th>\n",
       "      <th>0</th>\n",
       "      <th>0</th>\n",
       "      <th>0</th>\n",
       "      <th>0</th>\n",
       "      <th>0</th>\n",
       "      <th>0</th>\n",
       "      <th>0</th>\n",
       "      <th>0</th>\n",
       "      <th>0</th>\n",
       "      <td>923</td>\n",
       "    </tr>\n",
       "  </tbody>\n",
       "</table>\n",
       "</div>"
      ],
      "text/plain": [
       "                                                                                                                         deposit\n",
       "month_apr month_aug month_dec month_feb month_jan month_jul month_jun month_mar month_may month_nov month_oct month_sep         \n",
       "0         0         0         0         0         0         0         0         0         0         0         1              319\n",
       "                                                                                                    1         0              392\n",
       "                                                                                          1         0         0              943\n",
       "                                                                                1         0         0         0             2824\n",
       "                                                                      1         0         0         0         0              276\n",
       "                                                            1         0         0         0         0         0             1222\n",
       "                                                  1         0         0         0         0         0         0             1514\n",
       "                                        1         0         0         0         0         0         0         0              344\n",
       "                              1         0         0         0         0         0         0         0         0              776\n",
       "                    1         0         0         0         0         0         0         0         0         0              110\n",
       "          1         0         0         0         0         0         0         0         0         0         0             1519\n",
       "1         0         0         0         0         0         0         0         0         0         0         0              923"
      ]
     },
     "execution_count": 38,
     "metadata": {},
     "output_type": "execute_result"
    }
   ],
   "source": [
    "pd.DataFrame(df.groupby(['month_apr', 'month_aug', 'month_dec', 'month_feb',\n",
    "       'month_jan', 'month_jul', 'month_jun', 'month_mar', 'month_may',\n",
    "       'month_nov', 'month_oct', 'month_sep'])['deposit'].count())"
   ]
  },
  {
   "cell_type": "code",
   "execution_count": 83,
   "id": "robust-burns",
   "metadata": {},
   "outputs": [],
   "source": [
    "monthly_signup_rate = pd.DataFrame(df.groupby(['month_apr', 'month_aug', 'month_dec', 'month_feb',\n",
    "       'month_jan', 'month_jul', 'month_jun', 'month_mar', 'month_may',\n",
    "       'month_nov', 'month_oct', 'month_sep'])['deposit'].mean()).reset_index()\n",
    "\n",
    "x = list(monthly_signup_rate.columns)\n",
    "x = [i[-3:] for i in x][:-1][::-1]\n",
    "y = monthly_signup_rate['deposit'].values"
   ]
  },
  {
   "cell_type": "code",
   "execution_count": 84,
   "id": "everyday-artwork",
   "metadata": {},
   "outputs": [],
   "source": [
    "signup_rate = dict(zip(x,y))"
   ]
  },
  {
   "cell_type": "code",
   "execution_count": 143,
   "id": "streaming-sierra",
   "metadata": {},
   "outputs": [
    {
     "data": {
      "image/png": "[encoded data removed]",
      "text/plain": [
       "<Figure size 432x288 with 1 Axes>"
      ]
     },
     "metadata": {
      "needs_background": "light"
     },
     "output_type": "display_data"
    }
   ],
   "source": [
    "plt.bar(signup_rate.keys(), signup_rate.values());\n",
    "plt.xlabel('Month');\n",
    "plt.ylabel('Sign-up Rate');\n",
    "plt.title('Sign-up Rate by Calendar Month');"
   ]
  },
  {
   "cell_type": "markdown",
   "id": "seeing-mediterranean",
   "metadata": {},
   "source": [
    "### Examine distribution of positive outcomes based on customer's financial situation"
   ]
  },
  {
   "cell_type": "code",
   "execution_count": 26,
   "id": "banned-decline",
   "metadata": {},
   "outputs": [
    {
     "data": {
      "text/plain": [
       "default\n",
       "0    0.476351\n",
       "1    0.309524\n",
       "Name: deposit, dtype: float64"
      ]
     },
     "execution_count": 26,
     "metadata": {},
     "output_type": "execute_result"
    }
   ],
   "source": [
    "df.groupby('default')['deposit'].mean()"
   ]
  },
  {
   "cell_type": "code",
   "execution_count": 27,
   "id": "resident-prefix",
   "metadata": {},
   "outputs": [
    {
     "data": {
      "text/plain": [
       "housing\n",
       "0    0.570311\n",
       "1    0.366408\n",
       "Name: deposit, dtype: float64"
      ]
     },
     "execution_count": 27,
     "metadata": {},
     "output_type": "execute_result"
    }
   ],
   "source": [
    "df.groupby('housing')['deposit'].mean()"
   ]
  },
  {
   "cell_type": "code",
   "execution_count": 28,
   "id": "excellent-agency",
   "metadata": {},
   "outputs": [
    {
     "data": {
      "text/plain": [
       "loan\n",
       "0    0.495259\n",
       "1    0.331507\n",
       "Name: deposit, dtype: float64"
      ]
     },
     "execution_count": 28,
     "metadata": {},
     "output_type": "execute_result"
    }
   ],
   "source": [
    "df.groupby('loan')['deposit'].mean()"
   ]
  },
  {
   "cell_type": "code",
   "execution_count": 144,
   "id": "tribal-borough",
   "metadata": {},
   "outputs": [
    {
     "data": {
      "image/png": "[encoded data removed]",
      "text/plain": [
       "<Figure size 864x288 with 3 Axes>"
      ]
     },
     "metadata": {
      "needs_background": "light"
     },
     "output_type": "display_data"
    }
   ],
   "source": [
    "fig, (ax1, ax2, ax3) = plt.subplots(1, 3);\n",
    "fig.set_size_inches(12, 4)\n",
    "fig.suptitle('Sign-up Rate based on Consumer Financial conditions')\n",
    "ax1.bar(df.groupby('default')['deposit'].mean().index,df.groupby('default')['deposit'].mean().values);\n",
    "ax1.set_xlabel('Default');\n",
    "ax1.set_ylabel('Sign-up Rate');\n",
    "ax1.set_xticks([0,1]);\n",
    "\n",
    "ax2.bar(df.groupby('housing')['deposit'].mean().index, df.groupby('housing')['deposit'].mean().values);\n",
    "ax2.set_xlabel('Home Loan');\n",
    "ax2.set_xticks([0,1]);\n",
    "\n",
    "ax3.bar(df.groupby('loan')['deposit'].mean().index, df.groupby('loan')['deposit'].mean().values);\n",
    "ax3.set_xlabel('Personal Loan');\n",
    "ax3.set_xticks([0,1]);"
   ]
  }
 ],
 "metadata": {
  "kernelspec": {
   "display_name": "Python [conda env:metis] *",
   "language": "python",
   "name": "conda-env-metis-py"
  },
  "language_info": {
   "codemirror_mode": {
    "name": "ipython",
    "version": 3
   },
   "file_extension": ".py",
   "mimetype": "text/x-python",
   "name": "python",
   "nbconvert_exporter": "python",
   "pygments_lexer": "ipython3",
   "version": "3.8.6"
  }
 },
 "nbformat": 4,
 "nbformat_minor": 5
}
